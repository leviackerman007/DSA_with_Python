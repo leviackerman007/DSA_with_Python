{
 "cells": [
  {
   "cell_type": "markdown",
   "metadata": {},
   "source": [
    "Problem 303 : Range Sum Query - Immutable"
   ]
  },
  {
   "cell_type": "code",
   "execution_count": 5,
   "metadata": {},
   "outputs": [
    {
     "data": {
      "text/plain": [
       "37"
      ]
     },
     "execution_count": 5,
     "metadata": {},
     "output_type": "execute_result"
    }
   ],
   "source": [
    "class NumArray:\n",
    "\n",
    "    def __init__(self,nums:list[int]):\n",
    "        self.prefix=[nums[0]]\n",
    "        for i in range(1,len(nums)):\n",
    "            self.prefix.append(self.prefix[i-1]+nums[i])\n",
    "    \n",
    "    def sumRange(self, left:int,right:int)->int:\n",
    "        if left==0:\n",
    "            return self.prefix[right]\n",
    "        return self.prefix[right]-self.prefix[left-1]\n",
    "\n",
    "obj=NumArray([5,32,3,7,7,3])\n",
    "param_1=obj.sumRange(0,1)\n",
    "param_1"
   ]
  },
  {
   "cell_type": "code",
   "execution_count": 2,
   "metadata": {},
   "outputs": [
    {
     "data": {
      "text/plain": [
       "[[1], [1, 2], [1, 2, 3], [2], [2, 3], [3]]"
      ]
     },
     "execution_count": 2,
     "metadata": {},
     "output_type": "execute_result"
    }
   ],
   "source": [
    "def possible_subarrays(arr):\n",
    "    subarrays=[]\n",
    "    for start in range(len(arr)):\n",
    "        for end in range(start,len(arr)):\n",
    "            subarrays.append(arr[start:end+1])\n",
    "    return subarrays\n",
    "arr=[1,2,3]\n",
    "possible_subarrays(arr)"
   ]
  },
  {
   "cell_type": "code",
   "execution_count": 3,
   "metadata": {},
   "outputs": [
    {
     "data": {
      "text/plain": [
       "[[0],\n",
       " [0, 1],\n",
       " [0, 1, 1],\n",
       " [0, 1, 1, 0],\n",
       " [0, 1, 1, 0, 0],\n",
       " [0, 1, 1, 0, 0, 0],\n",
       " [1],\n",
       " [1, 1],\n",
       " [1, 1, 0],\n",
       " [1, 1, 0, 0],\n",
       " [1, 1, 0, 0, 0],\n",
       " [1],\n",
       " [1, 0],\n",
       " [1, 0, 0],\n",
       " [1, 0, 0, 0],\n",
       " [0],\n",
       " [0, 0],\n",
       " [0, 0, 0],\n",
       " [0],\n",
       " [0, 0],\n",
       " [0]]"
      ]
     },
     "execution_count": 3,
     "metadata": {},
     "output_type": "execute_result"
    }
   ],
   "source": [
    "possible_subarrays([0,1,1,0,0,0])"
   ]
  },
  {
   "cell_type": "code",
   "execution_count": 6,
   "metadata": {},
   "outputs": [
    {
     "data": {
      "text/plain": [
       "2"
      ]
     },
     "execution_count": 6,
     "metadata": {},
     "output_type": "execute_result"
    }
   ],
   "source": [
    "test=[0,1]\n",
    "counter=0\n",
    "max_len=0\n",
    "for i in possible_subarrays(test):\n",
    "    if i.count(0)==i.count(1) and max_len<len(i):\n",
    "        max_len=len(i)\n",
    "max_len"
   ]
  },
  {
   "cell_type": "code",
   "execution_count": null,
   "metadata": {},
   "outputs": [],
   "source": []
  }
 ],
 "metadata": {
  "kernelspec": {
   "display_name": "tensorflow",
   "language": "python",
   "name": "python3"
  },
  "language_info": {
   "codemirror_mode": {
    "name": "ipython",
    "version": 3
   },
   "file_extension": ".py",
   "mimetype": "text/x-python",
   "name": "python",
   "nbconvert_exporter": "python",
   "pygments_lexer": "ipython3",
   "version": "3.12.7"
  }
 },
 "nbformat": 4,
 "nbformat_minor": 2
}
