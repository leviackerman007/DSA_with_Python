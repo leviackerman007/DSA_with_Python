{
 "cells": [
  {
   "cell_type": "markdown",
   "metadata": {},
   "source": [
    "Recursion"
   ]
  },
  {
   "cell_type": "code",
   "execution_count": 2,
   "metadata": {},
   "outputs": [
    {
     "name": "stdout",
     "output_type": "stream",
     "text": [
      "24\n"
     ]
    }
   ],
   "source": [
    "def factorial(n):\n",
    "    if n==0:\n",
    "        return 1\n",
    "    else:\n",
    "        return n*factorial(n-1)\n",
    "print(factorial(4))"
   ]
  },
  {
   "cell_type": "markdown",
   "metadata": {},
   "source": [
    "Divide and Conquer"
   ]
  },
  {
   "cell_type": "markdown",
   "metadata": {},
   "source": [
    "Binary Search"
   ]
  },
  {
   "cell_type": "code",
   "execution_count": 8,
   "metadata": {},
   "outputs": [
    {
     "data": {
      "text/plain": [
       "9"
      ]
     },
     "execution_count": 8,
     "metadata": {},
     "output_type": "execute_result"
    }
   ],
   "source": [
    "def binary_search(arr,start,end,key):\n",
    "    while start<=end:\n",
    "        mid=start+(end-start)//2\n",
    "        if arr[mid]==key:\n",
    "            return mid\n",
    "        elif arr[mid]>key:\n",
    "            end=mid-1\n",
    "        else:\n",
    "            start=mid+1\n",
    "    return -1\n",
    "arr=[3,4,5,7,9,13,15,18,22,34]\n",
    "binary_search(arr,0,len(arr)-1,34)"
   ]
  },
  {
   "cell_type": "markdown",
   "metadata": {},
   "source": [
    "Merge Sort"
   ]
  },
  {
   "cell_type": "code",
   "execution_count": 5,
   "metadata": {},
   "outputs": [
    {
     "data": {
      "text/plain": [
       "[6, 7, 12, 34, 34, 76]"
      ]
     },
     "execution_count": 5,
     "metadata": {},
     "output_type": "execute_result"
    }
   ],
   "source": [
    "def merge_sort(unsorted_list):\n",
    "    if len(unsorted_list)==1:\n",
    "        return unsorted_list\n",
    "    mid_point=int(len(unsorted_list)/2)\n",
    "    first_half=unsorted_list[:mid_point]\n",
    "    second_half=unsorted_list[mid_point:]\n",
    "    half_a=merge_sort(first_half)\n",
    "    half_b=merge_sort(second_half)\n",
    "    return merge(half_a,half_b)\n",
    "def merge(first_sublist,second_sublist):\n",
    "    i=j=0\n",
    "    merged_list=[]\n",
    "    while i<len(first_sublist) and j<len(second_sublist):\n",
    "        if first_sublist[i]<second_sublist[j]:\n",
    "            merged_list.append(first_sublist[i])\n",
    "            i+=1\n",
    "        else:\n",
    "            merged_list.append(second_sublist[j])\n",
    "            j+=1\n",
    "    while i<len(first_sublist):\n",
    "        merged_list.append(first_sublist[i])\n",
    "        i+=1\n",
    "    while j<len(second_sublist):\n",
    "        merged_list.append(second_sublist[j])\n",
    "        j+=1\n",
    "    return merged_list   \n",
    "merge_sort([6,34,76,34,7,12])"
   ]
  },
  {
   "cell_type": "code",
   "execution_count": null,
   "metadata": {},
   "outputs": [],
   "source": []
  }
 ],
 "metadata": {
  "kernelspec": {
   "display_name": "tensorflow",
   "language": "python",
   "name": "python3"
  },
  "language_info": {
   "codemirror_mode": {
    "name": "ipython",
    "version": 3
   },
   "file_extension": ".py",
   "mimetype": "text/x-python",
   "name": "python",
   "nbconvert_exporter": "python",
   "pygments_lexer": "ipython3",
   "version": "3.12.7"
  }
 },
 "nbformat": 4,
 "nbformat_minor": 2
}
