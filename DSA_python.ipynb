{
 "cells": [
  {
   "cell_type": "markdown",
   "metadata": {},
   "source": [
    "Recursion"
   ]
  },
  {
   "cell_type": "code",
   "execution_count": 1,
   "metadata": {},
   "outputs": [
    {
     "name": "stdout",
     "output_type": "stream",
     "text": [
      "24\n"
     ]
    }
   ],
   "source": [
    "def factorial(n):\n",
    "    if n==0:\n",
    "        return 1\n",
    "    else:\n",
    "        return n*factorial(n-1)\n",
    "print(factorial(4))"
   ]
  },
  {
   "cell_type": "markdown",
   "metadata": {},
   "source": [
    "Divide and Conquer"
   ]
  },
  {
   "cell_type": "markdown",
   "metadata": {},
   "source": [
    "Binary Search"
   ]
  },
  {
   "cell_type": "code",
   "execution_count": 2,
   "metadata": {},
   "outputs": [
    {
     "data": {
      "text/plain": [
       "9"
      ]
     },
     "execution_count": 2,
     "metadata": {},
     "output_type": "execute_result"
    }
   ],
   "source": [
    "def binary_search(arr,start,end,key):\n",
    "    while start<=end:\n",
    "        mid=start+(end-start)//2\n",
    "        if arr[mid]==key:\n",
    "            return mid\n",
    "        elif arr[mid]>key:\n",
    "            end=mid-1\n",
    "        else:\n",
    "            start=mid+1\n",
    "    return -1\n",
    "arr=[3,4,5,7,9,13,15,18,22,34]\n",
    "binary_search(arr,0,len(arr)-1,34)"
   ]
  },
  {
   "cell_type": "markdown",
   "metadata": {},
   "source": [
    "Merge Sort"
   ]
  },
  {
   "cell_type": "code",
   "execution_count": 3,
   "metadata": {},
   "outputs": [
    {
     "data": {
      "text/plain": [
       "[1, 3, 4, 4, 6, 12, 45, 54, 64, 87]"
      ]
     },
     "execution_count": 3,
     "metadata": {},
     "output_type": "execute_result"
    }
   ],
   "source": [
    "def merge_sort(unsorted_list):\n",
    "    if len(unsorted_list)==1:\n",
    "        return unsorted_list\n",
    "    mid_point=int(len(unsorted_list)/2)\n",
    "    first_half=unsorted_list[:mid_point]\n",
    "    second_half=unsorted_list[mid_point:]\n",
    "    half_a=merge_sort(first_half)\n",
    "    half_b=merge_sort(second_half)\n",
    "    return merge(half_a,half_b)\n",
    "def merge(first_sublist,second_sublist):\n",
    "    i=j=0\n",
    "    merged_list=[]\n",
    "    while i<len(first_sublist) and j<len(second_sublist):\n",
    "        if first_sublist[i]<second_sublist[j]:\n",
    "            merged_list.append(first_sublist[i])\n",
    "            i+=1\n",
    "        else:\n",
    "            merged_list.append(second_sublist[j])\n",
    "            j+=1\n",
    "    while i<len(first_sublist):\n",
    "        merged_list.append(first_sublist[i])\n",
    "        i+=1\n",
    "    while j<len(second_sublist):\n",
    "        merged_list.append(second_sublist[j])\n",
    "        j+=1\n",
    "    return merged_list   \n",
    "arr=[4,64,12,87,4,3,1,6,45,54]\n",
    "merge_sort(arr)"
   ]
  },
  {
   "cell_type": "markdown",
   "metadata": {},
   "source": [
    "Dynamic Programming"
   ]
  },
  {
   "cell_type": "code",
   "execution_count": 4,
   "metadata": {},
   "outputs": [
    {
     "name": "stdout",
     "output_type": "stream",
     "text": [
      "0\n",
      "1\n",
      "1\n",
      "2\n",
      "3\n",
      "5\n"
     ]
    }
   ],
   "source": [
    "def dyna_fib(n):\n",
    "    if n==0:\n",
    "        return 0\n",
    "    if n==1:\n",
    "        return 1\n",
    "    if lookup[n] is not None:\n",
    "        return lookup[n]\n",
    "    lookup[n]=dyna_fib(n-1)+dyna_fib(n-2)\n",
    "    return lookup[n]\n",
    "lookup=[None]*1000\n",
    "\n",
    "for i in range(6):\n",
    "    print(dyna_fib(i))"
   ]
  },
  {
   "cell_type": "markdown",
   "metadata": {},
   "source": [
    "Greedy Algorithms"
   ]
  },
  {
   "cell_type": "markdown",
   "metadata": {},
   "source": [
    "Dijkstra's Algorithm\n",
    "Shortest Path Problem"
   ]
  },
  {
   "cell_type": "code",
   "execution_count": 5,
   "metadata": {},
   "outputs": [],
   "source": [
    "graph=dict()\n",
    "graph['A']={'B':5,'D':9,'E':2}\n",
    "graph['B']={'A':5,'C':2}\t\n",
    "graph['C']={'B':2,'D':3}\t\n",
    "graph['D']={'A':9,'F':2,'C':3}\t\n",
    "graph['E']={'A':2,'F':3}\t\n",
    "graph['F']={'E':3,'D':2}\t\n",
    "table={\n",
    "    'A':[0,None],\n",
    "    'B':[float(\"inf\"),None],\n",
    "    'C':[float(\"inf\"),None],\n",
    "    'D':[float(\"inf\"),None],\n",
    "    'E':[float(\"inf\"),None],\n",
    "    'F':[float(\"inf\"),None]\n",
    "}"
   ]
  },
  {
   "cell_type": "code",
   "execution_count": 6,
   "metadata": {},
   "outputs": [],
   "source": [
    "DISTANCE=0\n",
    "PREVIOUS_NODE=1\n",
    "INFINITY=float('inf')"
   ]
  },
  {
   "cell_type": "code",
   "execution_count": 13,
   "metadata": {},
   "outputs": [],
   "source": [
    "def get_shortest_distance(table,vertex):\n",
    "    shortest_distance=table[vertex][DISTANCE]\n",
    "    return shortest_distance\n",
    "\n",
    "def set_shortest_distance(table,vertex,new_distance):\n",
    "    table[vertex][DISTANCE]=new_distance\n",
    "\n",
    "def set_previous_node(table,vertex,previous_node):\n",
    "    table[vertex][PREVIOUS_NODE]=previous_node\n",
    "\n",
    "def get_distance(graph,first_vertex,second_vertex):\n",
    "    return graph[first_vertex][second_vertex]\n",
    "\n",
    "def get_next_node(table,visited_nodes):\n",
    "    unvisited_nodes=list(set(table.keys()).difference(set(visited_nodes)))\n",
    "    assumed_min=table[unvisited_nodes[0]][DISTANCE]\n",
    "    min_vertex=unvisited_nodes[0]\n",
    "    for node in unvisited_nodes:\n",
    "        if table[node][DISTANCE]<assumed_min:\n",
    "            assumed_min=table[node][DISTANCE]\n",
    "            min_vertex=node\n",
    "    return min_vertex\n",
    "\n",
    "def find_shortest_path(graph,table,origin):\n",
    "    visited_nodes=[]\n",
    "    current_node=origin\n",
    "    starting_node=origin\n",
    "    while True:\n",
    "        adjacent_nodes=graph[current_node]\n",
    "        if set(adjacent_nodes).issubset(set(visited_nodes)):\n",
    "            pass\n",
    "        else:\n",
    "            unvisited_nodes=set(adjacent_nodes).difference(set(visited_nodes))\n",
    "            for vertex in unvisited_nodes:\n",
    "                distance_from_starting_node=get_shortest_distance(table,vertex)\n",
    "                if distance_from_starting_node==INFINITY and current_node==starting_node:\n",
    "                    total_distance=get_distance(graph,vertex,current_node)\n",
    "                else:\n",
    "                    total_distance=get_shortest_distance(table,current_node)+\\\n",
    "                    get_distance(graph,vertex,current_node)\n",
    "                if total_distance<distance_from_starting_node:\n",
    "                    set_shortest_distance(table,vertex,total_distance)\n",
    "                    set_previous_node(table,vertex,current_node)\n",
    "        visited_nodes.append(current_node)\n",
    "        if len(visited_nodes)==len(table.keys()):\n",
    "            break\n",
    "        current_node=get_next_node(table,visited_nodes)\n",
    "    return (table)"
   ]
  },
  {
   "cell_type": "code",
   "execution_count": 14,
   "metadata": {},
   "outputs": [
    {
     "name": "stdout",
     "output_type": "stream",
     "text": [
      "A - [0, None]\n",
      "B - [5, 'A']\n",
      "C - [7, 'B']\n",
      "D - [7, 'F']\n",
      "E - [2, 'A']\n",
      "F - [5, 'E']\n"
     ]
    }
   ],
   "source": [
    "shortest_distance_table=find_shortest_path(graph,table,'A')\n",
    "for k in sorted(shortest_distance_table):\n",
    "    print(\"{} - {}\".format(k,shortest_distance_table[k]))"
   ]
  },
  {
   "cell_type": "markdown",
   "metadata": {},
   "source": [
    "Stack using Array"
   ]
  },
  {
   "cell_type": "code",
   "execution_count": 79,
   "metadata": {},
   "outputs": [
    {
     "name": "stdout",
     "output_type": "stream",
     "text": [
      "Stack Overflow\n",
      "7\n",
      "7\n"
     ]
    }
   ],
   "source": [
    "top=-1\n",
    "def create_stack(size):\n",
    "    return [0]*size\n",
    "def push(x):\n",
    "    global top\n",
    "    if top>=len(stack)-1:\n",
    "        print(\"Stack Overflow\")\n",
    "    else:\n",
    "        top+=1\n",
    "        stack[top]=x\n",
    "def pop():\n",
    "    global top\n",
    "    if top==-1:\n",
    "        print('Stack Underflow')\n",
    "        return None\n",
    "    else:\n",
    "        popped=stack[top]\n",
    "        top-=1\n",
    "        return popped\n",
    "def peek():\n",
    "    global top\n",
    "    if top==-1:\n",
    "        print(\"Stack Underflow\")\n",
    "    else:\n",
    "        print(stack[top])\n",
    "\n",
    "stack=create_stack(5)\n",
    "push(4)\n",
    "push(5)\n",
    "push(5)\n",
    "push(5)\n",
    "push(7)\n",
    "push(5)\n",
    "peek()\n",
    "print(pop())\n",
    "        "
   ]
  },
  {
   "cell_type": "markdown",
   "metadata": {},
   "source": [
    "Stack Using Linked List"
   ]
  },
  {
   "cell_type": "code",
   "execution_count": null,
   "metadata": {},
   "outputs": [],
   "source": [
    "class Node:\n",
    "    def __init__(self,data=None):\n",
    "        self.data=data\n",
    "        self.next=None\n",
    "class Stack:\n",
    "    def __init__(self):\n",
    "        self.top=None\n",
    "        self.size=0\n",
    "    def push(self,data):\n",
    "        node=Node()\n",
    "        if self.top:\n",
    "            node.next=self.top\n",
    "            self.top=node\n",
    "        else:\n",
    "            self.top=node\n",
    "        self.size+=1\n",
    "words=Stack()\n",
    "words.push('Hello')\n",
    "words.push('World')"
   ]
  },
  {
   "cell_type": "code",
   "execution_count": null,
   "metadata": {},
   "outputs": [],
   "source": []
  }
 ],
 "metadata": {
  "kernelspec": {
   "display_name": "tensorflow",
   "language": "python",
   "name": "python3"
  },
  "language_info": {
   "codemirror_mode": {
    "name": "ipython",
    "version": 3
   },
   "file_extension": ".py",
   "mimetype": "text/x-python",
   "name": "python",
   "nbconvert_exporter": "python",
   "pygments_lexer": "ipython3",
   "version": "3.12.7"
  }
 },
 "nbformat": 4,
 "nbformat_minor": 2
}
