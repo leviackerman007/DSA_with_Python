{
 "cells": [
  {
   "cell_type": "markdown",
   "metadata": {},
   "source": [
    "Recursion"
   ]
  },
  {
   "cell_type": "code",
   "execution_count": 1,
   "metadata": {},
   "outputs": [
    {
     "name": "stdout",
     "output_type": "stream",
     "text": [
      "24\n"
     ]
    }
   ],
   "source": [
    "def factorial(n):\n",
    "    if n==0:\n",
    "        return 1\n",
    "    else:\n",
    "        return n*factorial(n-1)\n",
    "print(factorial(4))"
   ]
  },
  {
   "cell_type": "markdown",
   "metadata": {},
   "source": [
    "Divide and Conquer"
   ]
  },
  {
   "cell_type": "markdown",
   "metadata": {},
   "source": [
    "Binary Search"
   ]
  },
  {
   "cell_type": "code",
   "execution_count": 2,
   "metadata": {},
   "outputs": [
    {
     "data": {
      "text/plain": [
       "9"
      ]
     },
     "execution_count": 2,
     "metadata": {},
     "output_type": "execute_result"
    }
   ],
   "source": [
    "def binary_search(arr,start,end,key):\n",
    "    while start<=end:\n",
    "        mid=start+(end-start)//2\n",
    "        if arr[mid]==key:\n",
    "            return mid\n",
    "        elif arr[mid]>key:\n",
    "            end=mid-1\n",
    "        else:\n",
    "            start=mid+1\n",
    "    return -1\n",
    "arr=[3,4,5,7,9,13,15,18,22,34]\n",
    "binary_search(arr,0,len(arr)-1,34)"
   ]
  },
  {
   "cell_type": "markdown",
   "metadata": {},
   "source": [
    "Merge Sort"
   ]
  },
  {
   "cell_type": "code",
   "execution_count": 3,
   "metadata": {},
   "outputs": [
    {
     "data": {
      "text/plain": [
       "[1, 3, 4, 4, 6, 12, 45, 54, 64, 87]"
      ]
     },
     "execution_count": 3,
     "metadata": {},
     "output_type": "execute_result"
    }
   ],
   "source": [
    "def merge_sort(unsorted_list):\n",
    "    if len(unsorted_list)==1:\n",
    "        return unsorted_list\n",
    "    mid_point=int(len(unsorted_list)/2)\n",
    "    first_half=unsorted_list[:mid_point]\n",
    "    second_half=unsorted_list[mid_point:]\n",
    "    half_a=merge_sort(first_half)\n",
    "    half_b=merge_sort(second_half)\n",
    "    return merge(half_a,half_b)\n",
    "def merge(first_sublist,second_sublist):\n",
    "    i=j=0\n",
    "    merged_list=[]\n",
    "    while i<len(first_sublist) and j<len(second_sublist):\n",
    "        if first_sublist[i]<second_sublist[j]:\n",
    "            merged_list.append(first_sublist[i])\n",
    "            i+=1\n",
    "        else:\n",
    "            merged_list.append(second_sublist[j])\n",
    "            j+=1\n",
    "    while i<len(first_sublist):\n",
    "        merged_list.append(first_sublist[i])\n",
    "        i+=1\n",
    "    while j<len(second_sublist):\n",
    "        merged_list.append(second_sublist[j])\n",
    "        j+=1\n",
    "    return merged_list   \n",
    "arr=[4,64,12,87,4,3,1,6,45,54]\n",
    "merge_sort(arr)"
   ]
  },
  {
   "cell_type": "markdown",
   "metadata": {},
   "source": [
    "Dynamic Programming"
   ]
  },
  {
   "cell_type": "code",
   "execution_count": 4,
   "metadata": {},
   "outputs": [
    {
     "name": "stdout",
     "output_type": "stream",
     "text": [
      "0\n",
      "1\n",
      "1\n",
      "2\n",
      "3\n",
      "5\n"
     ]
    }
   ],
   "source": [
    "def dyna_fib(n):\n",
    "    if n==0:\n",
    "        return 0\n",
    "    if n==1:\n",
    "        return 1\n",
    "    if lookup[n] is not None:\n",
    "        return lookup[n]\n",
    "    lookup[n]=dyna_fib(n-1)+dyna_fib(n-2)\n",
    "    return lookup[n]\n",
    "lookup=[None]*1000\n",
    "\n",
    "for i in range(6):\n",
    "    print(dyna_fib(i))"
   ]
  },
  {
   "cell_type": "markdown",
   "metadata": {},
   "source": [
    "Greedy Algorithms"
   ]
  },
  {
   "cell_type": "markdown",
   "metadata": {},
   "source": [
    "Dijkstra's Algorithm\n",
    "Shortest Path Problem"
   ]
  },
  {
   "cell_type": "code",
   "execution_count": 5,
   "metadata": {},
   "outputs": [],
   "source": [
    "graph=dict()\n",
    "graph['A']={'B':5,'D':9,'E':2}\n",
    "graph['B']={'A':5,'C':2}\t\n",
    "graph['C']={'B':2,'D':3}\t\n",
    "graph['D']={'A':9,'F':2,'C':3}\t\n",
    "graph['E']={'A':2,'F':3}\t\n",
    "graph['F']={'E':3,'D':2}\t\n",
    "table={\n",
    "    'A':[0,None],\n",
    "    'B':[float(\"inf\"),None],\n",
    "    'C':[float(\"inf\"),None],\n",
    "    'D':[float(\"inf\"),None],\n",
    "    'E':[float(\"inf\"),None],\n",
    "    'F':[float(\"inf\"),None]\n",
    "}"
   ]
  },
  {
   "cell_type": "code",
   "execution_count": 6,
   "metadata": {},
   "outputs": [],
   "source": [
    "DISTANCE=0\n",
    "PREVIOUS_NODE=1\n",
    "INFINITY=float('inf')"
   ]
  },
  {
   "cell_type": "code",
   "execution_count": 13,
   "metadata": {},
   "outputs": [],
   "source": [
    "def get_shortest_distance(table,vertex):\n",
    "    shortest_distance=table[vertex][DISTANCE]\n",
    "    return shortest_distance\n",
    "\n",
    "def set_shortest_distance(table,vertex,new_distance):\n",
    "    table[vertex][DISTANCE]=new_distance\n",
    "\n",
    "def set_previous_node(table,vertex,previous_node):\n",
    "    table[vertex][PREVIOUS_NODE]=previous_node\n",
    "\n",
    "def get_distance(graph,first_vertex,second_vertex):\n",
    "    return graph[first_vertex][second_vertex]\n",
    "\n",
    "def get_next_node(table,visited_nodes):\n",
    "    unvisited_nodes=list(set(table.keys()).difference(set(visited_nodes)))\n",
    "    assumed_min=table[unvisited_nodes[0]][DISTANCE]\n",
    "    min_vertex=unvisited_nodes[0]\n",
    "    for node in unvisited_nodes:\n",
    "        if table[node][DISTANCE]<assumed_min:\n",
    "            assumed_min=table[node][DISTANCE]\n",
    "            min_vertex=node\n",
    "    return min_vertex\n",
    "\n",
    "def find_shortest_path(graph,table,origin):\n",
    "    visited_nodes=[]\n",
    "    current_node=origin\n",
    "    starting_node=origin\n",
    "    while True:\n",
    "        adjacent_nodes=graph[current_node]\n",
    "        if set(adjacent_nodes).issubset(set(visited_nodes)):\n",
    "            pass\n",
    "        else:\n",
    "            unvisited_nodes=set(adjacent_nodes).difference(set(visited_nodes))\n",
    "            for vertex in unvisited_nodes:\n",
    "                distance_from_starting_node=get_shortest_distance(table,vertex)\n",
    "                if distance_from_starting_node==INFINITY and current_node==starting_node:\n",
    "                    total_distance=get_distance(graph,vertex,current_node)\n",
    "                else:\n",
    "                    total_distance=get_shortest_distance(table,current_node)+\\\n",
    "                    get_distance(graph,vertex,current_node)\n",
    "                if total_distance<distance_from_starting_node:\n",
    "                    set_shortest_distance(table,vertex,total_distance)\n",
    "                    set_previous_node(table,vertex,current_node)\n",
    "        visited_nodes.append(current_node)\n",
    "        if len(visited_nodes)==len(table.keys()):\n",
    "            break\n",
    "        current_node=get_next_node(table,visited_nodes)\n",
    "    return (table)"
   ]
  },
  {
   "cell_type": "code",
   "execution_count": 14,
   "metadata": {},
   "outputs": [
    {
     "name": "stdout",
     "output_type": "stream",
     "text": [
      "A - [0, None]\n",
      "B - [5, 'A']\n",
      "C - [7, 'B']\n",
      "D - [7, 'F']\n",
      "E - [2, 'A']\n",
      "F - [5, 'E']\n"
     ]
    }
   ],
   "source": [
    "shortest_distance_table=find_shortest_path(graph,table,'A')\n",
    "for k in sorted(shortest_distance_table):\n",
    "    print(\"{} - {}\".format(k,shortest_distance_table[k]))"
   ]
  },
  {
   "cell_type": "markdown",
   "metadata": {},
   "source": [
    "Stack using Array"
   ]
  },
  {
   "cell_type": "code",
   "execution_count": 79,
   "metadata": {},
   "outputs": [
    {
     "name": "stdout",
     "output_type": "stream",
     "text": [
      "Stack Overflow\n",
      "7\n",
      "7\n"
     ]
    }
   ],
   "source": [
    "top=-1\n",
    "def create_stack(size):\n",
    "    return [0]*size\n",
    "def push(x):\n",
    "    global top\n",
    "    if top>=len(stack)-1:\n",
    "        print(\"Stack Overflow\")\n",
    "    else:\n",
    "        top+=1\n",
    "        stack[top]=x\n",
    "def pop():\n",
    "    global top\n",
    "    if top==-1:\n",
    "        print('Stack Underflow')\n",
    "        return None\n",
    "    else:\n",
    "        popped=stack[top]\n",
    "        top-=1\n",
    "        return popped\n",
    "def peek():\n",
    "    global top\n",
    "    if top==-1:\n",
    "        print(\"Stack Underflow\")\n",
    "    else:\n",
    "        print(stack[top])\n",
    "\n",
    "stack=create_stack(5)\n",
    "push(4)\n",
    "push(5)\n",
    "push(5)\n",
    "push(5)\n",
    "push(7)\n",
    "push(5)\n",
    "peek()\n",
    "print(pop())\n",
    "        "
   ]
  },
  {
   "cell_type": "markdown",
   "metadata": {},
   "source": [
    "Stack Using Linked List"
   ]
  },
  {
   "cell_type": "code",
   "execution_count": 18,
   "metadata": {},
   "outputs": [
    {
     "name": "stdout",
     "output_type": "stream",
     "text": [
      "Pushed in : 1\n",
      "Pushed in : 2\n",
      "Pushed in : 3\n",
      "Popped out : 3\n",
      "Popped out : 2\n",
      "Popped out : 1\n",
      "Underflow\n",
      "Underflow\n"
     ]
    }
   ],
   "source": [
    "class Node:\n",
    "    def __init__(self,data=None):\n",
    "        self.data=data\n",
    "        self.next=None\n",
    "class Stack:\n",
    "    def __init__(self,max_size):\n",
    "        self.top=None\n",
    "        self.size=0\n",
    "        self.max_size=max_size\n",
    "    def push(self,data):\n",
    "        if self.size>=self.max_size:\n",
    "            print(\"Overflow\")\n",
    "            return\n",
    "        node=Node(data)\n",
    "        if self.top:\n",
    "            node.next=self.top\n",
    "            self.top=node\n",
    "        else:\n",
    "            self.top=node\n",
    "        self.size+=1\n",
    "        print(\"Pushed in :\",self.top.data)\n",
    "    def pop_out(self):\n",
    "        if self.top:\n",
    "            print(\"Popped out :\",self.top.data)\n",
    "            self.top=self.top.next\n",
    "            self.size-=1\n",
    "        else:\n",
    "            print(\"Underflow\")\n",
    "    def peek(self):\n",
    "        if self.top:\n",
    "            print(self.top.data)\n",
    "        else:\n",
    "            print(\"Underflow\")\n",
    "words=Stack(5)\n",
    "words.push('1')\n",
    "words.push('2')\n",
    "words.push(\"3\")\n",
    "words.pop_out()\n",
    "words.pop_out()\n",
    "words.pop_out()\n",
    "words.pop_out()\n",
    "words.peek()"
   ]
  },
  {
   "cell_type": "markdown",
   "metadata": {},
   "source": [
    "Next Greater Element"
   ]
  },
  {
   "cell_type": "code",
   "execution_count": 19,
   "metadata": {},
   "outputs": [
    {
     "data": {
      "text/plain": [
       "[8, -1, 1, 3, -1]"
      ]
     },
     "execution_count": 19,
     "metadata": {},
     "output_type": "execute_result"
    }
   ],
   "source": [
    "arr=[6,8,0,1,3]\n",
    "def next_greater_elements(arr):\n",
    "    result=len(arr)*[-1]\n",
    "    s=[]\n",
    "    for i in range(len(arr)-1,-1,-1):\n",
    "        while s and arr[s[-1]]<=arr[i]:\n",
    "            s.pop()\n",
    "        if s:\n",
    "            result[i]=arr[s[-1]]\n",
    "        s.append(i)\n",
    "    return result\n",
    "next_greater_elements(arr)"
   ]
  },
  {
   "cell_type": "markdown",
   "metadata": {},
   "source": [
    "LinkedList"
   ]
  },
  {
   "cell_type": "code",
   "execution_count": 10,
   "metadata": {},
   "outputs": [
    {
     "name": "stdout",
     "output_type": "stream",
     "text": [
      "3-->2-->1-->None\n",
      "3-->2-->None\n"
     ]
    }
   ],
   "source": [
    "class Node:\n",
    "    def __init__(self,data=0):\n",
    "        self.data=data\n",
    "        self.next=None\n",
    "class Linked_List:\n",
    "    def __init__(self):\n",
    "        self.head=None\n",
    "\n",
    "    def search(self,data):\n",
    "        if self.head:\n",
    "            start=self.head\n",
    "            while start:\n",
    "                if start.data==data:\n",
    "                    print(\"Value Found\")\n",
    "                    return start\n",
    "                start=start.next     \n",
    "        print(\"Value Not Found\")\n",
    "        return \n",
    "    \n",
    "    def traverse(self):\n",
    "        if not self.head:\n",
    "            print(\"Empty List\")\n",
    "            return\n",
    "        start=self.head\n",
    "        while start:\n",
    "            print(start.data,end=\"-->\")\n",
    "            start=start.next\n",
    "        print(\"None\")\n",
    "\n",
    "    def append(self,data):\n",
    "            new_node=Node(data)\n",
    "            if not self.head:\n",
    "                self.head=new_node\n",
    "                return \n",
    "            temp=self.head\n",
    "            while temp.next:\n",
    "                temp=temp.next\n",
    "            temp.next=new_node\n",
    "\n",
    "    def delete(self,data):\n",
    "        q=None\n",
    "        p=self.head\n",
    "        while p and p.data!=data:\n",
    "            q=p\n",
    "            p=p.next\n",
    "        if not p:\n",
    "            print(\"Value not present\")\n",
    "            return\n",
    "        if not q:\n",
    "            self.head=p.next\n",
    "        else:\n",
    "            q.next=p.next\n",
    "    def reverse(self):\n",
    "        if not self.head:\n",
    "            print(\"Empty list\")\n",
    "            return\n",
    "        p=self.head\n",
    "        q=None\n",
    "        r=p.next\n",
    "        while r:\n",
    "            p.next=q\n",
    "            q=p\n",
    "            p=r\n",
    "            r=r.next\n",
    "        p.next=q\n",
    "        self.head=p\n",
    "\n",
    "            \n",
    "l=Linked_List()\n",
    "l.append(1)\n",
    "l.append(2)\n",
    "l.append(3)\n",
    "l.reverse()\n",
    "l.traverse()\n",
    "l.delete(1)\n",
    "l.traverse()"
   ]
  },
  {
   "cell_type": "code",
   "execution_count": null,
   "metadata": {},
   "outputs": [],
   "source": []
  }
 ],
 "metadata": {
  "kernelspec": {
   "display_name": "pytorch",
   "language": "python",
   "name": "python3"
  },
  "language_info": {
   "codemirror_mode": {
    "name": "ipython",
    "version": 3
   },
   "file_extension": ".py",
   "mimetype": "text/x-python",
   "name": "python",
   "nbconvert_exporter": "python",
   "pygments_lexer": "ipython3",
   "version": "3.10.16"
  }
 },
 "nbformat": 4,
 "nbformat_minor": 2
}
